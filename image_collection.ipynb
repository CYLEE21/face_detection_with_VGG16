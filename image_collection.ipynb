{
 "cells": [
  {
   "cell_type": "code",
   "execution_count": 1,
   "metadata": {},
   "outputs": [],
   "source": [
    "import os\n",
    "import time \n",
    "import uuid\n",
    "import cv2"
   ]
  },
  {
   "cell_type": "code",
   "execution_count": 2,
   "metadata": {},
   "outputs": [],
   "source": [
    "IMAGES_PATH = os.path.join('data', 'images')\n",
    "numbers_images = 30"
   ]
  },
  {
   "cell_type": "code",
   "execution_count": 5,
   "metadata": {},
   "outputs": [
    {
     "name": "stdout",
     "output_type": "stream",
     "text": [
      "Collecting image 0\n",
      "True\n",
      "Collecting image 1\n",
      "True\n",
      "Collecting image 2\n",
      "True\n",
      "Collecting image 3\n",
      "True\n",
      "Collecting image 4\n",
      "True\n",
      "Collecting image 5\n",
      "True\n",
      "Collecting image 6\n",
      "True\n",
      "Collecting image 7\n",
      "True\n",
      "Collecting image 8\n",
      "True\n",
      "Collecting image 9\n",
      "True\n",
      "Collecting image 10\n",
      "True\n",
      "Collecting image 11\n",
      "True\n",
      "Collecting image 12\n",
      "True\n",
      "Collecting image 13\n",
      "True\n",
      "Collecting image 14\n",
      "True\n",
      "Collecting image 15\n",
      "True\n",
      "Collecting image 16\n",
      "True\n",
      "Collecting image 17\n",
      "True\n",
      "Collecting image 18\n",
      "True\n",
      "Collecting image 19\n",
      "True\n",
      "Collecting image 20\n",
      "True\n",
      "Collecting image 21\n",
      "True\n",
      "Collecting image 22\n",
      "True\n",
      "Collecting image 23\n",
      "True\n",
      "Collecting image 24\n",
      "True\n",
      "Collecting image 25\n",
      "True\n",
      "Collecting image 26\n",
      "True\n",
      "Collecting image 27\n",
      "True\n",
      "Collecting image 28\n",
      "True\n",
      "Collecting image 29\n",
      "True\n"
     ]
    }
   ],
   "source": [
    "cap = cv2.VideoCapture(0)\n",
    "for imgnum in range(numbers_images):\n",
    "    print('Collecting image {}'.format(imgnum))\n",
    "    ret, frame = cap.read()\n",
    "    print(ret)\n",
    "    imgname = os.path .join(IMAGES_PATH, f'{str(uuid.uuid1())}.jpg')\n",
    "    cv2.imwrite(imgname, frame)\n",
    "    time.sleep(0.5)\n",
    "\n",
    "cap.release()\n"
   ]
  },
  {
   "cell_type": "markdown",
   "metadata": {},
   "source": []
  },
  {
   "cell_type": "code",
   "execution_count": 2,
   "metadata": {},
   "outputs": [],
   "source": [
    "!labelme"
   ]
  },
  {
   "cell_type": "code",
   "execution_count": null,
   "metadata": {},
   "outputs": [],
   "source": []
  }
 ],
 "metadata": {
  "kernelspec": {
   "display_name": "Python 3",
   "language": "python",
   "name": "python3"
  },
  "language_info": {
   "codemirror_mode": {
    "name": "ipython",
    "version": 3
   },
   "file_extension": ".py",
   "mimetype": "text/x-python",
   "name": "python",
   "nbconvert_exporter": "python",
   "pygments_lexer": "ipython3",
   "version": "3.8.5"
  },
  "orig_nbformat": 4
 },
 "nbformat": 4,
 "nbformat_minor": 2
}
